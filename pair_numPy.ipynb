{
 "cells": [
  {
   "cell_type": "code",
   "execution_count": 1,
   "metadata": {},
   "outputs": [
    {
     "name": "stdout",
     "output_type": "stream",
     "text": [
      "Requirement already satisfied: numpy in /opt/anaconda3/lib/python3.9/site-packages (1.20.3)\n"
     ]
    }
   ],
   "source": [
    "!pip install numpy"
   ]
  },
  {
   "cell_type": "code",
   "execution_count": 2,
   "metadata": {},
   "outputs": [],
   "source": [
    "import numpy as np"
   ]
  },
  {
   "cell_type": "code",
   "execution_count": 40,
   "metadata": {},
   "outputs": [
    {
     "data": {
      "text/plain": [
       "array([0.85, 0.4 , 0.4 , 0.01, 0.47, 0.82, 0.96, 0.34, 0.08, 0.83])"
      ]
     },
     "execution_count": 40,
     "metadata": {},
     "output_type": "execute_result"
    }
   ],
   "source": [
    "#6.Crea un array 1D con 10 valores entre 0 y 1. Redondea los decimales a 2. Obtén los elementos cuyo valor es mayor que 0.5. \n",
    "#¿En que posición/es están esos elementos?\n",
    "\n",
    "array_6 = np.random.rand(10).round(2)\n",
    "array_6"
   ]
  },
  {
   "cell_type": "code",
   "execution_count": 7,
   "metadata": {},
   "outputs": [
    {
     "data": {
      "text/plain": [
       "array([2, 3])"
      ]
     },
     "execution_count": 7,
     "metadata": {},
     "output_type": "execute_result"
    }
   ],
   "source": [
    "array_6_1 = np.where(array_6 > 0.5)[0]\n",
    "array_6_1\n"
   ]
  },
  {
   "cell_type": "code",
   "execution_count": 11,
   "metadata": {},
   "outputs": [
    {
     "data": {
      "text/plain": [
       "array([[[61, 28, 79, 80],\n",
       "        [75, 20, 94, 25],\n",
       "        [25, 30, 94, 14]],\n",
       "\n",
       "       [[74,  5, 48, 20],\n",
       "        [47, 31, 53, 63],\n",
       "        [97, 99, 98, 67]]])"
      ]
     },
     "execution_count": 11,
     "metadata": {},
     "output_type": "execute_result"
    }
   ],
   "source": [
    "#1.Crea un array 3D de forma (2, 3, 4) con valores aleatorios entre 1 y 100 (ambos inclusive). \n",
    "#Utiliza reshape para convertirlo en un array 2D. Deberás pensar en la forma que es correcta para hacer este cambio.\n",
    "\n",
    "array_1_1 = np.random.randint(1, 101, (2, 3, 4))\n",
    "array_1_1"
   ]
  },
  {
   "cell_type": "code",
   "execution_count": 12,
   "metadata": {},
   "outputs": [
    {
     "data": {
      "text/plain": [
       "array([[61, 28, 79, 80],\n",
       "       [75, 20, 94, 25],\n",
       "       [25, 30, 94, 14],\n",
       "       [74,  5, 48, 20],\n",
       "       [47, 31, 53, 63],\n",
       "       [97, 99, 98, 67]])"
      ]
     },
     "execution_count": 12,
     "metadata": {},
     "output_type": "execute_result"
    }
   ],
   "source": [
    "array_1_2 = np.reshape(array_1_1, (-1, 4))\n",
    "array_1_2"
   ]
  },
  {
   "cell_type": "code",
   "execution_count": 15,
   "metadata": {},
   "outputs": [
    {
     "data": {
      "text/plain": [
       "array([[[0.00753416, 0.61446984],\n",
       "        [0.12731181, 0.62673192],\n",
       "        [0.97776053, 0.3818351 ]],\n",
       "\n",
       "       [[0.37419682, 0.70535051],\n",
       "        [0.14393584, 0.54360323],\n",
       "        [0.66044276, 0.27006632]],\n",
       "\n",
       "       [[0.05521561, 0.27567583],\n",
       "        [0.47386375, 0.68036239],\n",
       "        [0.47786184, 0.11665778]],\n",
       "\n",
       "       [[0.16529753, 0.96678184],\n",
       "        [0.1182195 , 0.61642596],\n",
       "        [0.10840249, 0.61377039]]])"
      ]
     },
     "execution_count": 15,
     "metadata": {},
     "output_type": "execute_result"
    }
   ],
   "source": [
    "# 3. Crea un array 3D de forma (4, 3, 2) con valores aleatorios entre 0 y 1. Utiliza reshape para convertirlo en un array 2D.\n",
    "\n",
    "array_3_1 = np.random.rand(4, 3, 2)\n",
    "array_3_1"
   ]
  },
  {
   "cell_type": "code",
   "execution_count": 19,
   "metadata": {},
   "outputs": [
    {
     "data": {
      "text/plain": [
       "array([[0.00753416, 0.61446984, 0.12731181, 0.62673192],\n",
       "       [0.97776053, 0.3818351 , 0.37419682, 0.70535051],\n",
       "       [0.14393584, 0.54360323, 0.66044276, 0.27006632],\n",
       "       [0.05521561, 0.27567583, 0.47386375, 0.68036239],\n",
       "       [0.47786184, 0.11665778, 0.16529753, 0.96678184],\n",
       "       [0.1182195 , 0.61642596, 0.10840249, 0.61377039]])"
      ]
     },
     "execution_count": 19,
     "metadata": {},
     "output_type": "execute_result"
    }
   ],
   "source": [
    "array_3_2 = np.reshape(array_3_1, (-1, 4))\n",
    "array_3_2"
   ]
  },
  {
   "cell_type": "code",
   "execution_count": null,
   "metadata": {},
   "outputs": [],
   "source": [
    "# 5.Utiliza el array 3D del ejercicio 3 de reshape. \n",
    "# Utiliza transpose para cambiar el orden de los ejes y obtener un nuevo array con forma (3, 2, 4).??????\n",
    "\n",
    "array_5_1 = np.transpose(array_3_2, (3, 2, 4))"
   ]
  },
  {
   "cell_type": "markdown",
   "metadata": {},
   "source": [
    "7. ¿Y entre el transpose y el swapaxes?\n",
    "\n",
    "TRANSPOSE: permite reordenar los ejes de un array multidimensional según una secuencia específica de ejes proporcionada como argumento\n",
    "SWAPAXES: intercambia dos ejes especificados de un array multidimensional"
   ]
  },
  {
   "cell_type": "code",
   "execution_count": 32,
   "metadata": {},
   "outputs": [],
   "source": [
    "array_1_1_1 = np.round(np.random.rand(2, 3, 5), 1)"
   ]
  },
  {
   "cell_type": "code",
   "execution_count": 36,
   "metadata": {},
   "outputs": [
    {
     "data": {
      "text/plain": [
       "array([[[0.56867723, 0.83420363, 0.35085277, 0.39052135, 0.52848217],\n",
       "        [0.91712272, 0.49626731, 0.21169801, 0.90414567, 0.02101046],\n",
       "        [0.55403539, 0.03649714, 0.82590654, 0.1844943 , 0.94861736]],\n",
       "\n",
       "       [[0.21385908, 0.19216421, 0.05353119, 0.21604892, 0.72850453],\n",
       "        [0.06203853, 0.06877772, 0.11100816, 0.79594852, 0.41606626],\n",
       "        [0.99934133, 0.48487245, 0.50406881, 0.48588546, 0.05252919]]])"
      ]
     },
     "execution_count": 36,
     "metadata": {},
     "output_type": "execute_result"
    }
   ],
   "source": [
    "#2. Crea un array vacío con la misma forma y dimensiones que el array creado anteriormente. \n",
    "#Vamos a reemplazar los valores de la matriz vacía que nos acabamos de crear pero basándonos \n",
    "#en los valores del primer array bajo las siguientes condiciones:\n",
    "\n",
    "array_2_1_1 = np.empty_like(array_1_1_1, )\n",
    "array_2_1_1"
   ]
  },
  {
   "cell_type": "code",
   "execution_count": 37,
   "metadata": {},
   "outputs": [],
   "source": [
    "media = np.mean(array_2_1_1)\n",
    "maximo = np.max(array_2_1_1)\n",
    "minimo = np.min(array_2_1_1)"
   ]
  },
  {
   "cell_type": "code",
   "execution_count": 39,
   "metadata": {},
   "outputs": [
    {
     "data": {
      "text/plain": [
       "array([[['B', 'B', 'C', 'C', 'B'],\n",
       "        ['B', 'B', 'C', 'B', 'C'],\n",
       "        ['B', 'C', 'B', 'C', 'B']],\n",
       "\n",
       "       [['C', 'C', 'C', 'C', 'B'],\n",
       "        ['C', 'C', 'C', 'B', 'C'],\n",
       "        ['B', 'B', 'B', 'B', 'C']]], dtype='<U1')"
      ]
     },
     "execution_count": 39,
     "metadata": {},
     "output_type": "execute_result"
    }
   ],
   "source": [
    "array_2_1_2 = np.where(array_2_1_1 == media, 'A',\n",
    "              np.where(array_2_1_1 > media, 'B',\n",
    "              np.where(array_2_1_1 < media, 'C',\n",
    "              np.where(array_2_1_1 == maximo, 'D',\n",
    "              np.where(array_2_1_1 == minimo, 'E', '')))))\n",
    "array_2_1_2"
   ]
  }
 ],
 "metadata": {
  "kernelspec": {
   "display_name": "base",
   "language": "python",
   "name": "python3"
  },
  "language_info": {
   "codemirror_mode": {
    "name": "ipython",
    "version": 3
   },
   "file_extension": ".py",
   "mimetype": "text/x-python",
   "name": "python",
   "nbconvert_exporter": "python",
   "pygments_lexer": "ipython3",
   "version": "3.9.7"
  }
 },
 "nbformat": 4,
 "nbformat_minor": 2
}
